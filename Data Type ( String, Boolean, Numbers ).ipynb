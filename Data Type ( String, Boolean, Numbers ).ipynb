{
 "cells": [
  {
   "cell_type": "markdown",
   "id": "af2ec96a",
   "metadata": {},
   "source": [
    "# Data Type ( String, Boolean, Numbers)"
   ]
  },
  {
   "cell_type": "markdown",
   "id": "2d52cec7",
   "metadata": {},
   "source": [
    "## > Contents of the material discussed:"
   ]
  },
  {
   "cell_type": "markdown",
   "id": "84c530b3",
   "metadata": {},
   "source": [
    "Contents of the module material discussed:\n",
    "\n",
    "1. Numbers Data Type\n",
    "2. Convert from one data type to another (Especially Numbers data type)\n",
    "3. Random Numbers\n",
    "4. String Data Type\n",
    "5. Boolean Data Type"
   ]
  },
  {
   "cell_type": "markdown",
   "id": "2f7767f7",
   "metadata": {},
   "source": [
    "## > Python Numbers"
   ]
  },
  {
   "cell_type": "markdown",
   "id": "527db8b5",
   "metadata": {},
   "source": [
    "### Integer ( Int ) dan Float (Float)"
   ]
  },
  {
   "cell_type": "markdown",
   "id": "f86ca1a9",
   "metadata": {},
   "source": [
    "1. Numbers numeric type in Python is divided into 3: int, float and complex"
   ]
  },
  {
   "cell_type": "code",
   "execution_count": 1,
   "id": "bbeb656d",
   "metadata": {},
   "outputs": [
    {
     "data": {
      "text/plain": [
       "int"
      ]
     },
     "execution_count": 1,
     "metadata": {},
     "output_type": "execute_result"
    }
   ],
   "source": [
    "b = 10       # b is a variable in python\n",
    "\n",
    "type (b)     # type () function used to check the type of data used"
   ]
  },
  {
   "cell_type": "code",
   "execution_count": 2,
   "id": "d6cdf690",
   "metadata": {},
   "outputs": [
    {
     "data": {
      "text/plain": [
       "float"
      ]
     },
     "execution_count": 2,
     "metadata": {},
     "output_type": "execute_result"
    }
   ],
   "source": [
    "c = 1.7      # c is a variable in python\n",
    "             # In python, the comma (,) replace with a period (.)\n",
    "type (c)     # type () function used to check the type of data used"
   ]
  },
  {
   "cell_type": "markdown",
   "id": "db523f0b",
   "metadata": {},
   "source": [
    "Different integer and float is decimal points."
   ]
  },
  {
   "cell_type": "code",
   "execution_count": 3,
   "id": "4d5c1ca7",
   "metadata": {},
   "outputs": [
    {
     "data": {
      "text/plain": [
       "int"
      ]
     },
     "execution_count": 3,
     "metadata": {},
     "output_type": "execute_result"
    }
   ],
   "source": [
    "a = 1\n",
    "\n",
    "type (a)"
   ]
  },
  {
   "cell_type": "code",
   "execution_count": 4,
   "id": "e221272c",
   "metadata": {},
   "outputs": [
    {
     "data": {
      "text/plain": [
       "float"
      ]
     },
     "execution_count": 4,
     "metadata": {},
     "output_type": "execute_result"
    }
   ],
   "source": [
    "b = 1.0\n",
    "\n",
    "type (b)"
   ]
  },
  {
   "cell_type": "markdown",
   "id": "33ea4a0a",
   "metadata": {},
   "source": [
    "### Complex Data Type"
   ]
  },
  {
   "cell_type": "markdown",
   "id": "28415436",
   "metadata": {},
   "source": [
    "Because python also used by mathematicians, the number type also supports imaginary parts and complex numbers. The value of a complex number written in the formulation x + yj, where an x part is an absolute number and y is an imaginary number. Examples are as follows:"
   ]
  },
  {
   "cell_type": "code",
   "execution_count": 5,
   "id": "d62527a0",
   "metadata": {},
   "outputs": [
    {
     "data": {
      "text/plain": [
       "complex"
      ]
     },
     "execution_count": 5,
     "metadata": {},
     "output_type": "execute_result"
    }
   ],
   "source": [
    "c = 1 + 2j\n",
    "\n",
    "type (c)"
   ]
  },
  {
   "cell_type": "markdown",
   "id": "838ab308",
   "metadata": {},
   "source": [
    "Note: \n",
    "\n",
    "The letter \"j\" can't replaced with other letters other. Also, pay attention to the use of uppercase and lowercase letters. If you write a capital J, the output will be an error. Because Python is case sensitive."
   ]
  },
  {
   "cell_type": "markdown",
   "id": "97342c09",
   "metadata": {},
   "source": [
    "## > Conversion Type"
   ]
  },
  {
   "cell_type": "markdown",
   "id": "b16b5b38",
   "metadata": {},
   "source": [
    "We can convert from one type of data type to another with the int(), float(), and complex() methods:\n",
    "\n",
    "For Example:"
   ]
  },
  {
   "cell_type": "markdown",
   "id": "68822dbd",
   "metadata": {},
   "source": [
    "Convert from integer to float"
   ]
  },
  {
   "cell_type": "code",
   "execution_count": 1,
   "id": "94584596",
   "metadata": {},
   "outputs": [
    {
     "name": "stdout",
     "output_type": "stream",
     "text": [
      "1.0\n",
      "<class 'float'>\n"
     ]
    }
   ],
   "source": [
    "x = 1   # int\n",
    "\n",
    "#int to float\n",
    "\n",
    "a = float(x)\n",
    "\n",
    "print(a)\n",
    "print(type(a))"
   ]
  },
  {
   "cell_type": "markdown",
   "id": "9d49f57f",
   "metadata": {},
   "source": [
    "Convert from float to int"
   ]
  },
  {
   "cell_type": "code",
   "execution_count": 9,
   "id": "a4a3b2c5",
   "metadata": {},
   "outputs": [
    {
     "name": "stdout",
     "output_type": "stream",
     "text": [
      "1\n",
      "<class 'int'>\n"
     ]
    }
   ],
   "source": [
    "y = 1.5   # int\n",
    "\n",
    "#float ke int\n",
    "\n",
    "a = int(y)\n",
    "\n",
    "print(a)\n",
    "print(type(a))"
   ]
  },
  {
   "cell_type": "markdown",
   "id": "31b56165",
   "metadata": {},
   "source": [
    "Convert from int to complex"
   ]
  },
  {
   "cell_type": "code",
   "execution_count": 11,
   "id": "c2796c1f",
   "metadata": {},
   "outputs": [
    {
     "name": "stdout",
     "output_type": "stream",
     "text": [
      "(1+0j)\n",
      "<class 'complex'>\n"
     ]
    }
   ],
   "source": [
    "x = 1   # int\n",
    "\n",
    "#int ke complex\n",
    "\n",
    "a = complex(x)\n",
    "\n",
    "print(a)\n",
    "print(type(a))"
   ]
  },
  {
   "cell_type": "markdown",
   "id": "d0da6b5a",
   "metadata": {},
   "source": [
    "Note: We cannot convert complex data types to other types of numbers data types."
   ]
  },
  {
   "cell_type": "markdown",
   "id": "b8e2b132",
   "metadata": {},
   "source": [
    "## > Random Numbers"
   ]
  },
  {
   "cell_type": "markdown",
   "id": "3508fae2",
   "metadata": {},
   "source": [
    "Python doesn't have a random() function to generate random numbers, but Python has a built-in module called random that you can use to generate random numbers:"
   ]
  },
  {
   "cell_type": "markdown",
   "id": "1c6a991d",
   "metadata": {},
   "source": [
    "Example:\n",
    "\n",
    "Import random modul, and display a random number between 1 and 9:"
   ]
  },
  {
   "cell_type": "code",
   "execution_count": 2,
   "id": "ff030727",
   "metadata": {},
   "outputs": [
    {
     "name": "stdout",
     "output_type": "stream",
     "text": [
      "6\n"
     ]
    }
   ],
   "source": [
    "import random\n",
    "\n",
    "print(random.randrange(1, 10))"
   ]
  },
  {
   "cell_type": "markdown",
   "id": "5e0b4987",
   "metadata": {},
   "source": [
    "## > Data Type String"
   ]
  },
  {
   "cell_type": "markdown",
   "id": "6cb45b8f",
   "metadata": {},
   "source": [
    "A string is a sequence of Unicode characters declared in single or double quotes. Strings >1 line can be marked with three single or double quotes ''' or \"\"\"."
   ]
  },
  {
   "cell_type": "code",
   "execution_count": 4,
   "id": "969f6b1f",
   "metadata": {},
   "outputs": [
    {
     "name": "stdout",
     "output_type": "stream",
     "text": [
      "Hello World\n"
     ]
    }
   ],
   "source": [
    "# Use single quotes ( ' ' )\n",
    "\n",
    "a = 'Hello World'\n",
    "\n",
    "print(a)              # Print variable a"
   ]
  },
  {
   "cell_type": "code",
   "execution_count": 5,
   "id": "8cf0ba82",
   "metadata": {},
   "outputs": [
    {
     "data": {
      "text/plain": [
       "str"
      ]
     },
     "execution_count": 5,
     "metadata": {},
     "output_type": "execute_result"
    }
   ],
   "source": [
    "a = 'Hello World'\n",
    "\n",
    "type(a)               # Print type data from variable a "
   ]
  },
  {
   "cell_type": "code",
   "execution_count": 6,
   "id": "566c3e0b",
   "metadata": {},
   "outputs": [
    {
     "name": "stdout",
     "output_type": "stream",
     "text": [
      "Hello World\n"
     ]
    }
   ],
   "source": [
    "# Use double quotes ( \" \" )\n",
    "\n",
    "b = \"Hello World\"\n",
    "\n",
    "print(b)"
   ]
  },
  {
   "cell_type": "code",
   "execution_count": 7,
   "id": "549dfdc9",
   "metadata": {},
   "outputs": [
    {
     "data": {
      "text/plain": [
       "str"
      ]
     },
     "execution_count": 7,
     "metadata": {},
     "output_type": "execute_result"
    }
   ],
   "source": [
    "b = \"Hello World\"\n",
    "\n",
    "type(b)"
   ]
  },
  {
   "cell_type": "code",
   "execution_count": 11,
   "id": "a69b6021",
   "metadata": {},
   "outputs": [
    {
     "name": "stdout",
     "output_type": "stream",
     "text": [
      "Hello, My name is Yesaya,\n",
      "I'm from Indonesia and I like reading books\n",
      "Nice to meet you\n"
     ]
    }
   ],
   "source": [
    "# Example of more than 1 row of string data type\n",
    "\n",
    "c = '''Hello, My name is Yesaya,\n",
    "I'm from Indonesia and I like reading books\n",
    "Nice to meet you'''\n",
    "\n",
    "print (c)"
   ]
  },
  {
   "cell_type": "code",
   "execution_count": 12,
   "id": "198399b5",
   "metadata": {},
   "outputs": [
    {
     "data": {
      "text/plain": [
       "str"
      ]
     },
     "execution_count": 12,
     "metadata": {},
     "output_type": "execute_result"
    }
   ],
   "source": [
    "c = \"\"\"Hello, My name is Yesaya,\n",
    "I'm from Indonesia and I like reading books\n",
    "Nice to meet you\"\"\"\n",
    "\n",
    "type (c)"
   ]
  },
  {
   "cell_type": "markdown",
   "id": "51d58ecb",
   "metadata": {},
   "source": [
    "To create a new line in addition to using single or double quotes three times. We can use with blackplash n (\\n). Examples as below:"
   ]
  },
  {
   "cell_type": "code",
   "execution_count": 13,
   "id": "a01d65e4",
   "metadata": {},
   "outputs": [
    {
     "name": "stdout",
     "output_type": "stream",
     "text": [
      "Hello All \n",
      "Let me introduce my self \n",
      "My name is Yesaya\n"
     ]
    }
   ],
   "source": [
    "d = 'Hello All \\nLet me introduce my self \\nMy name is Yesaya'\n",
    "\n",
    "print(d)"
   ]
  },
  {
   "cell_type": "markdown",
   "id": "eee5a981",
   "metadata": {},
   "source": [
    "When we want to write quotation marks in a variable of type String data, we can use character escape characters. Or we can use reverse quotes when declaring a variable. Examples as below:"
   ]
  },
  {
   "cell_type": "code",
   "execution_count": 16,
   "id": "9a7e8883",
   "metadata": {},
   "outputs": [
    {
     "name": "stdout",
     "output_type": "stream",
     "text": [
      "I'm\n"
     ]
    }
   ],
   "source": [
    "#Example using escape karakter\n",
    "\n",
    "a = 'I\\'m'    # If you don't use the escape character (\\) then python will show an error in the form of a syntax error.\n",
    "\n",
    "print (a)"
   ]
  },
  {
   "cell_type": "code",
   "execution_count": 14,
   "id": "46ace603",
   "metadata": {},
   "outputs": [
    {
     "name": "stdout",
     "output_type": "stream",
     "text": [
      "I\"m\n",
      "I'm\n"
     ]
    }
   ],
   "source": [
    "#Example of using the reverse quote\n",
    "\n",
    "b = 'I\"m'\n",
    "c = \"I'm\"\n",
    "\n",
    "print (b)\n",
    "print (c)"
   ]
  },
  {
   "cell_type": "markdown",
   "id": "9fcf608f",
   "metadata": {},
   "source": [
    "## > Boolean Type Data"
   ]
  },
  {
   "cell_type": "markdown",
   "id": "6456966b",
   "metadata": {},
   "source": [
    "3. Bools/Booleans. The boolean data type is an instance of an integer (integer or int) which only has two constant values, namely True and False."
   ]
  },
  {
   "cell_type": "code",
   "execution_count": 15,
   "id": "22f53fe0",
   "metadata": {},
   "outputs": [
    {
     "data": {
      "text/plain": [
       "False"
      ]
     },
     "execution_count": 15,
     "metadata": {},
     "output_type": "execute_result"
    }
   ],
   "source": [
    "2 > 5"
   ]
  },
  {
   "cell_type": "code",
   "execution_count": 17,
   "id": "9d75ac10",
   "metadata": {},
   "outputs": [
    {
     "data": {
      "text/plain": [
       "False"
      ]
     },
     "execution_count": 17,
     "metadata": {},
     "output_type": "execute_result"
    }
   ],
   "source": [
    "# If we want to use operator = then we use \" == \".\n",
    "# Because in python the sign ( = ) is used to assign a variable.\n",
    "# Example:\n",
    "\n",
    "2 == 5"
   ]
  },
  {
   "cell_type": "code",
   "execution_count": 17,
   "id": "037dc30b",
   "metadata": {},
   "outputs": [
    {
     "data": {
      "text/plain": [
       "True"
      ]
     },
     "execution_count": 17,
     "metadata": {},
     "output_type": "execute_result"
    }
   ],
   "source": [
    "2 <= 5"
   ]
  },
  {
   "cell_type": "code",
   "execution_count": 18,
   "id": "1c3cf14e",
   "metadata": {},
   "outputs": [
    {
     "name": "stdout",
     "output_type": "stream",
     "text": [
      "True\n"
     ]
    },
    {
     "data": {
      "text/plain": [
       "bool"
      ]
     },
     "execution_count": 18,
     "metadata": {},
     "output_type": "execute_result"
    }
   ],
   "source": [
    "a = 2 <= 5\n",
    "\n",
    "print(a)\n",
    "type(a)"
   ]
  },
  {
   "cell_type": "code",
   "execution_count": 18,
   "id": "74fc4ccb",
   "metadata": {},
   "outputs": [
    {
     "data": {
      "text/plain": [
       "True"
      ]
     },
     "execution_count": 18,
     "metadata": {},
     "output_type": "execute_result"
    }
   ],
   "source": [
    "# Example of whether 2 is not equal to 3:\n",
    "\n",
    "2 != 3"
   ]
  }
 ],
 "metadata": {
  "kernelspec": {
   "display_name": "Python 3 (ipykernel)",
   "language": "python",
   "name": "python3"
  },
  "language_info": {
   "codemirror_mode": {
    "name": "ipython",
    "version": 3
   },
   "file_extension": ".py",
   "mimetype": "text/x-python",
   "name": "python",
   "nbconvert_exporter": "python",
   "pygments_lexer": "ipython3",
   "version": "3.9.12"
  }
 },
 "nbformat": 4,
 "nbformat_minor": 5
}
