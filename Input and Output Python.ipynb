{
 "cells": [
  {
   "cell_type": "markdown",
   "id": "dd5223d7",
   "metadata": {},
   "source": [
    "# Input and Output Python"
   ]
  },
  {
   "cell_type": "markdown",
   "id": "7e286374",
   "metadata": {},
   "source": [
    "Some material in Input and Output Python:\n",
    "\n",
    "1. Variabel\n",
    "2. Function print() \n",
    "3. Entering and displaying values in variables ( use format function and argument specifiers ).\n",
    "4. Function input() to input value in variable"
   ]
  },
  {
   "cell_type": "markdown",
   "id": "97764319",
   "metadata": {},
   "source": [
    "## > Variable"
   ]
  },
  {
   "cell_type": "markdown",
   "id": "f9ef8982",
   "metadata": {},
   "source": [
    "A variable is a place (in computer memory) to store values of another data type."
   ]
  },
  {
   "cell_type": "markdown",
   "id": "8c3cd350",
   "metadata": {},
   "source": [
    "To assign a value to a variable, we use the '=' operator, between the variable name and the value we want to store."
   ]
  },
  {
   "cell_type": "code",
   "execution_count": null,
   "id": "6624605b",
   "metadata": {},
   "outputs": [],
   "source": [
    "a = 3\n",
    "\n",
    "# That means we store the value 3 (type int) to the variable a."
   ]
  },
  {
   "cell_type": "markdown",
   "id": "ee93c234",
   "metadata": {},
   "source": [
    "## > Function print()"
   ]
  },
  {
   "cell_type": "markdown",
   "id": "200f6e0f",
   "metadata": {},
   "source": [
    "The print() function is a way of outputting directly to the console/screen."
   ]
  },
  {
   "cell_type": "code",
   "execution_count": null,
   "id": "40c0e33a",
   "metadata": {},
   "outputs": [],
   "source": [
    "print('Hello Everyone')"
   ]
  },
  {
   "cell_type": "markdown",
   "id": "ea0b7651",
   "metadata": {},
   "source": [
    "## >Entering a variable value in a string."
   ]
  },
  {
   "cell_type": "markdown",
   "id": "93791dee",
   "metadata": {},
   "source": [
    "To include a variable value in a string, python has several ways:"
   ]
  },
  {
   "cell_type": "markdown",
   "id": "2642e28b",
   "metadata": {},
   "source": [
    "* Directly concatenate variables in function print() statement."
   ]
  },
  {
   "cell_type": "code",
   "execution_count": null,
   "id": "ed03524b",
   "metadata": {},
   "outputs": [],
   "source": [
    "a = 3"
   ]
  },
  {
   "cell_type": "code",
   "execution_count": null,
   "id": "f38535bb",
   "metadata": {},
   "outputs": [],
   "source": [
    "type(a)"
   ]
  },
  {
   "cell_type": "code",
   "execution_count": null,
   "id": "7b69fd37",
   "metadata": {},
   "outputs": [],
   "source": [
    "print('Value of variable a is', a)"
   ]
  },
  {
   "cell_type": "code",
   "execution_count": null,
   "id": "0dcf1d17",
   "metadata": {},
   "outputs": [],
   "source": [
    "b = 'Yesaya Arya'\n",
    "c = 21\n",
    "\n",
    "print('My name is', b, 'and my age', c,'years.')"
   ]
  },
  {
   "cell_type": "markdown",
   "id": "e317fb2c",
   "metadata": {},
   "source": [
    "* To display text (string), you can use the format string mechanism."
   ]
  },
  {
   "cell_type": "code",
   "execution_count": null,
   "id": "793488f3",
   "metadata": {},
   "outputs": [],
   "source": [
    "print('My name is {}'.format('Nam See Doo'))"
   ]
  },
  {
   "cell_type": "code",
   "execution_count": null,
   "id": "da9cfeb8",
   "metadata": {},
   "outputs": [],
   "source": [
    "print('My name is {} nnd my age {} years'.format('Yesaya',21))"
   ]
  },
  {
   "cell_type": "markdown",
   "id": "4f2dc58e",
   "metadata": {},
   "source": [
    "Menggunakan operator \"%\" yang ditambahkan dengan \"argument specifers\""
   ]
  },
  {
   "cell_type": "markdown",
   "id": "71611e6d",
   "metadata": {},
   "source": [
    "Some examples of commonly used argument specifiers:\n",
    "\n",
    "* %s = string\n",
    "* %d = Integers\n",
    "* %f = Desimal"
   ]
  },
  {
   "cell_type": "code",
   "execution_count": null,
   "id": "3095890e",
   "metadata": {},
   "outputs": [],
   "source": [
    "name = 'Yesaya Arya'"
   ]
  },
  {
   "cell_type": "code",
   "execution_count": null,
   "id": "e6631eaf",
   "metadata": {},
   "outputs": [],
   "source": [
    "age = 21"
   ]
  },
  {
   "cell_type": "code",
   "execution_count": null,
   "id": "c2821758",
   "metadata": {},
   "outputs": [],
   "source": [
    "print('My name is %s and now My age %d years.' % (name, age))"
   ]
  },
  {
   "cell_type": "markdown",
   "id": "4b4f90df",
   "metadata": {},
   "source": [
    "## > Function input()"
   ]
  },
  {
   "cell_type": "markdown",
   "id": "dbb88df5",
   "metadata": {},
   "source": [
    "To allow the user to provide input to your program, use the input() function, where the argument in brackets () is the text you want to display (prompt) and the variable before the equal sign (=) is the resultant container of user input."
   ]
  },
  {
   "cell_type": "code",
   "execution_count": null,
   "id": "7f6f8501",
   "metadata": {},
   "outputs": [],
   "source": [
    "name = input('My name: ')"
   ]
  },
  {
   "cell_type": "code",
   "execution_count": null,
   "id": "32fe2325",
   "metadata": {},
   "outputs": [],
   "source": [
    "print(name)"
   ]
  },
  {
   "cell_type": "markdown",
   "id": "edf0190f",
   "metadata": {},
   "source": [
    "Secara default, input dari user adalah string"
   ]
  },
  {
   "cell_type": "code",
   "execution_count": null,
   "id": "7018534f",
   "metadata": {},
   "outputs": [],
   "source": [
    "age = input('My age: ')"
   ]
  },
  {
   "cell_type": "code",
   "execution_count": null,
   "id": "aaeda553",
   "metadata": {},
   "outputs": [],
   "source": [
    "print(age)"
   ]
  },
  {
   "cell_type": "code",
   "execution_count": null,
   "id": "f3f9b303",
   "metadata": {},
   "outputs": [],
   "source": [
    "type (age)"
   ]
  },
  {
   "cell_type": "code",
   "execution_count": null,
   "id": "055dddf6",
   "metadata": {},
   "outputs": [],
   "source": [
    "print(int(age))  # Change the data type to integer (int)"
   ]
  },
  {
   "cell_type": "code",
   "execution_count": null,
   "id": "5cc897c5",
   "metadata": {},
   "outputs": [],
   "source": [
    "type(age)"
   ]
  },
  {
   "cell_type": "markdown",
   "id": "9d568b6f",
   "metadata": {},
   "source": [
    "OR"
   ]
  },
  {
   "cell_type": "code",
   "execution_count": 1,
   "id": "ae9be8a1",
   "metadata": {},
   "outputs": [
    {
     "name": "stdout",
     "output_type": "stream",
     "text": [
      "My age: 21\n"
     ]
    }
   ],
   "source": [
    "age1 = int(input('My age: '))"
   ]
  },
  {
   "cell_type": "code",
   "execution_count": 2,
   "id": "dba38a6a",
   "metadata": {},
   "outputs": [
    {
     "name": "stdout",
     "output_type": "stream",
     "text": [
      "21\n"
     ]
    }
   ],
   "source": [
    "print(age1)"
   ]
  },
  {
   "cell_type": "code",
   "execution_count": 3,
   "id": "41a7df75",
   "metadata": {},
   "outputs": [
    {
     "data": {
      "text/plain": [
       "int"
      ]
     },
     "execution_count": 3,
     "metadata": {},
     "output_type": "execute_result"
    }
   ],
   "source": [
    "type(age1)"
   ]
  },
  {
   "cell_type": "markdown",
   "id": "3fa0846f",
   "metadata": {},
   "source": [
    "Challenge"
   ]
  },
  {
   "cell_type": "code",
   "execution_count": 7,
   "id": "71d0cd52",
   "metadata": {},
   "outputs": [
    {
     "name": "stdout",
     "output_type": "stream",
     "text": [
      "My name is:Yesaya\n"
     ]
    }
   ],
   "source": [
    "name = input('My name is:')"
   ]
  },
  {
   "cell_type": "code",
   "execution_count": 8,
   "id": "b76be173",
   "metadata": {},
   "outputs": [
    {
     "name": "stdout",
     "output_type": "stream",
     "text": [
      "My age:21\n"
     ]
    }
   ],
   "source": [
    "age = input('My age:')"
   ]
  },
  {
   "cell_type": "code",
   "execution_count": 9,
   "id": "af91658a",
   "metadata": {},
   "outputs": [
    {
     "name": "stdout",
     "output_type": "stream",
     "text": [
      "My Height:170\n"
     ]
    }
   ],
   "source": [
    "height = input('My Height:')"
   ]
  },
  {
   "cell_type": "code",
   "execution_count": 10,
   "id": "611b14cd",
   "metadata": {},
   "outputs": [
    {
     "name": "stdout",
     "output_type": "stream",
     "text": [
      "Hello my name is Yesaya and my age is 21 years my height is 178 cm.\n"
     ]
    }
   ],
   "source": [
    "print('Hello my name is', nama, 'and my age is', umur,'years', 'my height is', tinggi, 'cm.')"
   ]
  }
 ],
 "metadata": {
  "kernelspec": {
   "display_name": "Python 3 (ipykernel)",
   "language": "python",
   "name": "python3"
  },
  "language_info": {
   "codemirror_mode": {
    "name": "ipython",
    "version": 3
   },
   "file_extension": ".py",
   "mimetype": "text/x-python",
   "name": "python",
   "nbconvert_exporter": "python",
   "pygments_lexer": "ipython3",
   "version": "3.9.12"
  }
 },
 "nbformat": 4,
 "nbformat_minor": 5
}
