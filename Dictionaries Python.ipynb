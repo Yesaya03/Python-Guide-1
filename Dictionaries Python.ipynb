{
 "cells": [
  {
   "cell_type": "markdown",
   "id": "bed3bd3e",
   "metadata": {},
   "source": [
    "# Dictionary Type Data"
   ]
  },
  {
   "cell_type": "markdown",
   "id": "9760efae",
   "metadata": {},
   "source": [
    "A dictionary in Python is an unordered collection of key-value pairs. Dictionary used to store small to large data. To access the data, we must know the key ( key ). In Python, dictionaries defined with curly braces and additional definitions like this:\n",
    "\n",
    "1. Each par key-value element is separated by a comma ( , )\n",
    "2. Key and value separated by a colon ( : )\n",
    "3. Key and Value can be any type of variable/object."
   ]
  },
  {
   "cell_type": "code",
   "execution_count": 1,
   "id": "1e06aa5f",
   "metadata": {},
   "outputs": [],
   "source": [
    "a = {'Nama':'Yesaya', 'Usia':21}"
   ]
  },
  {
   "cell_type": "code",
   "execution_count": 2,
   "id": "c99b490b",
   "metadata": {},
   "outputs": [
    {
     "data": {
      "text/plain": [
       "dict"
      ]
     },
     "execution_count": 2,
     "metadata": {},
     "output_type": "execute_result"
    }
   ],
   "source": [
    "type(a)"
   ]
  },
  {
   "cell_type": "code",
   "execution_count": 3,
   "id": "5be5cb8c",
   "metadata": {},
   "outputs": [
    {
     "data": {
      "text/plain": [
       "'Yesaya'"
      ]
     },
     "execution_count": 3,
     "metadata": {},
     "output_type": "execute_result"
    }
   ],
   "source": [
    "a['Nama']"
   ]
  },
  {
   "cell_type": "code",
   "execution_count": 4,
   "id": "004427e2",
   "metadata": {},
   "outputs": [
    {
     "data": {
      "text/plain": [
       "21"
      ]
     },
     "execution_count": 4,
     "metadata": {},
     "output_type": "execute_result"
    }
   ],
   "source": [
    "a['Usia']"
   ]
  },
  {
   "cell_type": "markdown",
   "id": "c47f308c",
   "metadata": {},
   "source": [
    "Dictionaries not included in the sequences implementation, so they cannot called by index order. For example, in the following example trying with index 0, will return an error (KeyError) because there is no key ( key ) 0:"
   ]
  },
  {
   "cell_type": "code",
   "execution_count": 5,
   "id": "a2aa2c32",
   "metadata": {},
   "outputs": [
    {
     "ename": "KeyError",
     "evalue": "0",
     "output_type": "error",
     "traceback": [
      "\u001b[1;31m---------------------------------------------------------------------------\u001b[0m",
      "\u001b[1;31mKeyError\u001b[0m                                  Traceback (most recent call last)",
      "Input \u001b[1;32mIn [5]\u001b[0m, in \u001b[0;36m<cell line: 1>\u001b[1;34m()\u001b[0m\n\u001b[1;32m----> 1\u001b[0m \u001b[43ma\u001b[49m\u001b[43m[\u001b[49m\u001b[38;5;241;43m0\u001b[39;49m\u001b[43m]\u001b[49m\n",
      "\u001b[1;31mKeyError\u001b[0m: 0"
     ]
    }
   ],
   "source": [
    "a[0]"
   ]
  },
  {
   "cell_type": "markdown",
   "id": "54bcba92",
   "metadata": {},
   "source": [
    "Example dictionary nested"
   ]
  },
  {
   "cell_type": "code",
   "execution_count": 6,
   "id": "cf72d74e",
   "metadata": {},
   "outputs": [],
   "source": [
    "a = {'Mahasiswa1':{'Nama':'Yesaya','Usia':25,'Lulusan':2019},'Mahasiswa2':{'Nama':'Danar','Usia':23,'Lulusan':2017} }"
   ]
  },
  {
   "cell_type": "code",
   "execution_count": 7,
   "id": "d9a6b866",
   "metadata": {},
   "outputs": [
    {
     "name": "stdout",
     "output_type": "stream",
     "text": [
      "{'Nama': 'Yesaya', 'Usia': 25, 'Lulusan': 2019}\n"
     ]
    }
   ],
   "source": [
    "print(a['Mahasiswa1']) # Knowing the contents of the nested dictionary from Student1"
   ]
  },
  {
   "cell_type": "code",
   "execution_count": 8,
   "id": "24209dc6",
   "metadata": {},
   "outputs": [
    {
     "name": "stdout",
     "output_type": "stream",
     "text": [
      "Yesaya\n"
     ]
    }
   ],
   "source": [
    "print(a['Mahasiswa1']['Nama']) # Takes data 'Nama' from dictionary Mahasiswa1"
   ]
  },
  {
   "cell_type": "code",
   "execution_count": 9,
   "id": "cb04d748",
   "metadata": {},
   "outputs": [
    {
     "name": "stdout",
     "output_type": "stream",
     "text": [
      "2017\n"
     ]
    }
   ],
   "source": [
    "print(a['Mahasiswa2']['Lulusan']) # Takes data 'lulusan' from dictionary Mahassiwa2"
   ]
  },
  {
   "cell_type": "markdown",
   "id": "ba410be5",
   "metadata": {},
   "source": [
    "Or we can create a nested dictionary by:"
   ]
  },
  {
   "cell_type": "code",
   "execution_count": 10,
   "id": "d3a66f7e",
   "metadata": {},
   "outputs": [],
   "source": [
    "Mahasiswa1 = {\n",
    "    'Nama':'Yesaya',\n",
    "    'Usia':25,\n",
    "    'Lulusan':2019\n",
    "}\n",
    "Mahasiswa2 = {\n",
    "    'Nama':'Danar',\n",
    "    'Usia':23,\n",
    "    'Lulusan':2017}\n",
    "    \n",
    "b={'Mahasiswa1':'Mahasiswa1',\n",
    "  'Mahasiswa2':'Mahasiswa2'}"
   ]
  },
  {
   "cell_type": "code",
   "execution_count": 11,
   "id": "46599455",
   "metadata": {},
   "outputs": [
    {
     "name": "stdout",
     "output_type": "stream",
     "text": [
      "{'Nama': 'Yesaya', 'Usia': 25, 'Lulusan': 2019}\n"
     ]
    }
   ],
   "source": [
    "print(a['Mahasiswa1']) # Knowing the contents of the nested dictionary from Student1"
   ]
  },
  {
   "cell_type": "code",
   "execution_count": 12,
   "id": "75960495",
   "metadata": {},
   "outputs": [
    {
     "name": "stdout",
     "output_type": "stream",
     "text": [
      "Yesaya\n"
     ]
    }
   ],
   "source": [
    "print(a['Mahasiswa1']['Nama']) # Takes data 'Nama' from dictionary Mahasiswa1"
   ]
  }
 ],
 "metadata": {
  "kernelspec": {
   "display_name": "Python 3 (ipykernel)",
   "language": "python",
   "name": "python3"
  },
  "language_info": {
   "codemirror_mode": {
    "name": "ipython",
    "version": 3
   },
   "file_extension": ".py",
   "mimetype": "text/x-python",
   "name": "python",
   "nbconvert_exporter": "python",
   "pygments_lexer": "ipython3",
   "version": "3.9.12"
  }
 },
 "nbformat": 4,
 "nbformat_minor": 5
}
