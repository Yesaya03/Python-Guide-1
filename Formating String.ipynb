{
 "cells": [
  {
   "cell_type": "markdown",
   "id": "46ba820b",
   "metadata": {},
   "source": [
    "# Formating String"
   ]
  },
  {
   "cell_type": "markdown",
   "id": "e0b1261d",
   "metadata": {},
   "source": [
    "Some material in Formating String:\n",
    "\n",
    "1. zfill()\n",
    "2. rjust()\n",
    "3. ljust()\n",
    "4. center()\n",
    "5. String literals ( Enscape Character and Raw Strings )"
   ]
  },
  {
   "cell_type": "markdown",
   "id": "5a173e55",
   "metadata": {},
   "source": [
    "## > zfill()"
   ]
  },
  {
   "cell_type": "markdown",
   "id": "bbd4077e",
   "metadata": {},
   "source": [
    "* A method that can add a numeric value of 0 to the left of a number or string using zfill()\n",
    "\n",
    "* The use of this zfill() method can be applied to invoice numbers or queue numbers\n",
    "\n",
    "* The number of characters must be less than or equal to the zfill value."
   ]
  },
  {
   "cell_type": "code",
   "execution_count": 2,
   "id": "5bde465b",
   "metadata": {},
   "outputs": [],
   "source": [
    "a = 7"
   ]
  },
  {
   "cell_type": "code",
   "execution_count": 4,
   "id": "e6c62896",
   "metadata": {},
   "outputs": [
    {
     "data": {
      "text/plain": [
       "'007'"
      ]
     },
     "execution_count": 4,
     "metadata": {},
     "output_type": "execute_result"
    }
   ],
   "source": [
    "str(7).zfill(3)"
   ]
  },
  {
   "cell_type": "code",
   "execution_count": 7,
   "id": "c58c98d2",
   "metadata": {},
   "outputs": [],
   "source": [
    "b=\"200\""
   ]
  },
  {
   "cell_type": "code",
   "execution_count": 9,
   "id": "a183a9e0",
   "metadata": {},
   "outputs": [
    {
     "data": {
      "text/plain": [
       "'00200'"
      ]
     },
     "execution_count": 9,
     "metadata": {},
     "output_type": "execute_result"
    }
   ],
   "source": [
    "b.zfill(5)"
   ]
  },
  {
   "cell_type": "code",
   "execution_count": 11,
   "id": "817bff93",
   "metadata": {},
   "outputs": [],
   "source": [
    "c = -0.25"
   ]
  },
  {
   "cell_type": "code",
   "execution_count": 14,
   "id": "37a5a43c",
   "metadata": {},
   "outputs": [
    {
     "data": {
      "text/plain": [
       "'-0.25'"
      ]
     },
     "execution_count": 14,
     "metadata": {},
     "output_type": "execute_result"
    }
   ],
   "source": [
    "str(c).zfill(5)"
   ]
  },
  {
   "cell_type": "code",
   "execution_count": 15,
   "id": "001ab216",
   "metadata": {},
   "outputs": [],
   "source": [
    "d = -0.25"
   ]
  },
  {
   "cell_type": "code",
   "execution_count": 17,
   "id": "e652ee16",
   "metadata": {},
   "outputs": [
    {
     "data": {
      "text/plain": [
       "'-000.25'"
      ]
     },
     "execution_count": 17,
     "metadata": {},
     "output_type": "execute_result"
    }
   ],
   "source": [
    "str(d).zfill(7)"
   ]
  },
  {
   "cell_type": "markdown",
   "id": "ec58b14b",
   "metadata": {},
   "source": [
    "Applying zfill() to strings"
   ]
  },
  {
   "cell_type": "code",
   "execution_count": 19,
   "id": "1c864594",
   "metadata": {},
   "outputs": [],
   "source": [
    "a = \"dia\""
   ]
  },
  {
   "cell_type": "code",
   "execution_count": 23,
   "id": "73826aaf",
   "metadata": {},
   "outputs": [
    {
     "data": {
      "text/plain": [
       "'000dia'"
      ]
     },
     "execution_count": 23,
     "metadata": {},
     "output_type": "execute_result"
    }
   ],
   "source": [
    "a.zfill(6)"
   ]
  },
  {
   "cell_type": "code",
   "execution_count": 25,
   "id": "ca0fabb2",
   "metadata": {},
   "outputs": [],
   "source": [
    "b = \"bukan\""
   ]
  },
  {
   "cell_type": "code",
   "execution_count": 27,
   "id": "868765f7",
   "metadata": {},
   "outputs": [
    {
     "data": {
      "text/plain": [
       "'0bukan'"
      ]
     },
     "execution_count": 27,
     "metadata": {},
     "output_type": "execute_result"
    }
   ],
   "source": [
    "b.zfill(6)"
   ]
  },
  {
   "cell_type": "code",
   "execution_count": 29,
   "id": "03bb3ea4",
   "metadata": {},
   "outputs": [],
   "source": [
    "c = 'untukmu'"
   ]
  },
  {
   "cell_type": "code",
   "execution_count": 31,
   "id": "012ebaf7",
   "metadata": {},
   "outputs": [
    {
     "data": {
      "text/plain": [
       "'untukmu'"
      ]
     },
     "execution_count": 31,
     "metadata": {},
     "output_type": "execute_result"
    }
   ],
   "source": [
    "c.zfill(6)"
   ]
  },
  {
   "cell_type": "markdown",
   "id": "9ca6517b",
   "metadata": {},
   "source": [
    "## > Left/right/center aligned text with rjust(), ljust(), and center()"
   ]
  },
  {
   "cell_type": "markdown",
   "id": "633f2336",
   "metadata": {},
   "source": [
    "rjust()\n",
    "\n",
    "* The rjust() method is used to make the text right-align\n",
    "* This method will add a space to the string to make it match\n",
    "* The parameter is an integer which is the overall length of the text (not the number of spaces added)\n",
    "* We can replace whitespace with other symbols by entering the second parameter.Left/right/center aligned text with rjust(), ljust(), and center()"
   ]
  },
  {
   "cell_type": "code",
   "execution_count": 52,
   "id": "877e9c06",
   "metadata": {},
   "outputs": [
    {
     "data": {
      "text/plain": [
       "'      Data'"
      ]
     },
     "execution_count": 52,
     "metadata": {},
     "output_type": "execute_result"
    }
   ],
   "source": [
    "\"Data\".rjust(10)"
   ]
  },
  {
   "cell_type": "code",
   "execution_count": 53,
   "id": "1f975050",
   "metadata": {},
   "outputs": [
    {
     "data": {
      "text/plain": [
       "'~~~~~~Data'"
      ]
     },
     "execution_count": 53,
     "metadata": {},
     "output_type": "execute_result"
    }
   ],
   "source": [
    "\"Data\".rjust(10,\"~\")"
   ]
  },
  {
   "cell_type": "code",
   "execution_count": 35,
   "id": "be26336e",
   "metadata": {},
   "outputs": [],
   "source": [
    "a = \"Data\".rjust(10)"
   ]
  },
  {
   "cell_type": "code",
   "execution_count": 39,
   "id": "e9ccaea3",
   "metadata": {},
   "outputs": [
    {
     "data": {
      "text/plain": [
       "10"
      ]
     },
     "execution_count": 39,
     "metadata": {},
     "output_type": "execute_result"
    }
   ],
   "source": [
    "len(a)"
   ]
  },
  {
   "cell_type": "markdown",
   "id": "488740dd",
   "metadata": {},
   "source": [
    "ljust()"
   ]
  },
  {
   "cell_type": "markdown",
   "id": "59ce05b5",
   "metadata": {},
   "source": [
    "* The ljust() method is used to make text left-aligned\n",
    "* This method will add a space to the string to make it match\n",
    "* The parameter is an integer which is the overall length of the text (not the number of spaces added)\n",
    "* We can replace whitespace with other symbols by entering in the second parameter."
   ]
  },
  {
   "cell_type": "code",
   "execution_count": 54,
   "id": "0828d307",
   "metadata": {},
   "outputs": [
    {
     "data": {
      "text/plain": [
       "'Data      '"
      ]
     },
     "execution_count": 54,
     "metadata": {},
     "output_type": "execute_result"
    }
   ],
   "source": [
    "\"Data\".ljust(10)"
   ]
  },
  {
   "cell_type": "code",
   "execution_count": 55,
   "id": "95096b16",
   "metadata": {},
   "outputs": [
    {
     "data": {
      "text/plain": [
       "'Data~~~~~~'"
      ]
     },
     "execution_count": 55,
     "metadata": {},
     "output_type": "execute_result"
    }
   ],
   "source": [
    "\"Data\".ljust(10,\"~\")"
   ]
  },
  {
   "cell_type": "code",
   "execution_count": 42,
   "id": "f68d36cf",
   "metadata": {},
   "outputs": [],
   "source": [
    "b = \"Data\".ljust(10)"
   ]
  },
  {
   "cell_type": "code",
   "execution_count": 44,
   "id": "6eb6032b",
   "metadata": {},
   "outputs": [
    {
     "data": {
      "text/plain": [
       "10"
      ]
     },
     "execution_count": 44,
     "metadata": {},
     "output_type": "execute_result"
    }
   ],
   "source": [
    "len(b)"
   ]
  },
  {
   "cell_type": "markdown",
   "id": "90dfdb74",
   "metadata": {},
   "source": [
    "center()"
   ]
  },
  {
   "cell_type": "markdown",
   "id": "ca95d9e3",
   "metadata": {},
   "source": [
    "* The center() method is used to center the text\n",
    "* This method will add a space to the string to make it match\n",
    "* The parameter is an integer which is the overall length of the text (not the number of spaces added)\n",
    "* We can replace whitespace with other symbols by entering in the second parameter."
   ]
  },
  {
   "cell_type": "code",
   "execution_count": 1,
   "id": "0b8d5f62",
   "metadata": {},
   "outputs": [
    {
     "data": {
      "text/plain": [
       "'   Data   '"
      ]
     },
     "execution_count": 1,
     "metadata": {},
     "output_type": "execute_result"
    }
   ],
   "source": [
    "\"Data\".center(10)"
   ]
  },
  {
   "cell_type": "code",
   "execution_count": 2,
   "id": "1f4fb27a",
   "metadata": {},
   "outputs": [
    {
     "data": {
      "text/plain": [
       "'---Data---'"
      ]
     },
     "execution_count": 2,
     "metadata": {},
     "output_type": "execute_result"
    }
   ],
   "source": [
    "\"Data\".center(10,\"-\")"
   ]
  },
  {
   "cell_type": "code",
   "execution_count": 3,
   "id": "31e15378",
   "metadata": {},
   "outputs": [],
   "source": [
    "c = \"Data\".center(10)"
   ]
  },
  {
   "cell_type": "code",
   "execution_count": 4,
   "id": "a11f8421",
   "metadata": {},
   "outputs": [
    {
     "data": {
      "text/plain": [
       "10"
      ]
     },
     "execution_count": 4,
     "metadata": {},
     "output_type": "execute_result"
    }
   ],
   "source": [
    "len(c)"
   ]
  },
  {
   "cell_type": "markdown",
   "id": "baa56aa0",
   "metadata": {},
   "source": [
    "String literals"
   ]
  },
  {
   "cell_type": "markdown",
   "id": "ca909675",
   "metadata": {},
   "source": [
    "Commonly, strings are written easily in Python, enclosed in single quotes. But under certain conditions, it takes a single quote in the middle of the string."
   ]
  },
  {
   "cell_type": "code",
   "execution_count": 57,
   "id": "2c7574e5",
   "metadata": {},
   "outputs": [
    {
     "data": {
      "text/plain": [
       "\"Jum'at\""
      ]
     },
     "execution_count": 57,
     "metadata": {},
     "output_type": "execute_result"
    }
   ],
   "source": [
    "\"Jum'at\""
   ]
  },
  {
   "cell_type": "code",
   "execution_count": 5,
   "id": "c64bca07",
   "metadata": {},
   "outputs": [
    {
     "ename": "SyntaxError",
     "evalue": "invalid syntax (3847017892.py, line 3)",
     "output_type": "error",
     "traceback": [
      "\u001b[1;36m  Input \u001b[1;32mIn [5]\u001b[1;36m\u001b[0m\n\u001b[1;33m    print('Jum'at')\u001b[0m\n\u001b[1;37m               ^\u001b[0m\n\u001b[1;31mSyntaxError\u001b[0m\u001b[1;31m:\u001b[0m invalid syntax\n"
     ]
    }
   ],
   "source": [
    " # Error because the quotation marks (') after the letter m can not be read.\n",
    "    \n",
    "print('Jum'at') "
   ]
  },
  {
   "cell_type": "markdown",
   "id": "6c7d4d85",
   "metadata": {},
   "source": [
    "Escape Character is backslash allows us to include the characters ' and \" in the string part."
   ]
  },
  {
   "cell_type": "code",
   "execution_count": 65,
   "id": "2f3ee8e8",
   "metadata": {},
   "outputs": [
    {
     "data": {
      "text/plain": [
       "\"Jum'at\""
      ]
     },
     "execution_count": 65,
     "metadata": {},
     "output_type": "execute_result"
    }
   ],
   "source": [
    "'Jum\\'at'"
   ]
  },
  {
   "cell_type": "code",
   "execution_count": 67,
   "id": "7d6667ac",
   "metadata": {},
   "outputs": [
    {
     "data": {
      "text/plain": [
       "'Jum\"at'"
      ]
     },
     "execution_count": 67,
     "metadata": {},
     "output_type": "execute_result"
    }
   ],
   "source": [
    "\"Jum\\\"at\""
   ]
  },
  {
   "cell_type": "markdown",
   "id": "92f57c63",
   "metadata": {},
   "source": [
    "Raw Strings"
   ]
  },
  {
   "cell_type": "markdown",
   "id": "67ebd6d2",
   "metadata": {},
   "source": [
    "Python also provides a way to print strings according to input or text.\n",
    "\n",
    "To implement raw strings, prepare the letter r before the string opener."
   ]
  },
  {
   "cell_type": "code",
   "execution_count": 69,
   "id": "ca113fea",
   "metadata": {},
   "outputs": [
    {
     "name": "stdout",
     "output_type": "stream",
     "text": [
      "Data Science\\tScience\n"
     ]
    }
   ],
   "source": [
    "print(r\"Data Science\\tScience\")"
   ]
  },
  {
   "cell_type": "markdown",
   "id": "31221719",
   "metadata": {},
   "source": [
    "Supposedly, the \\t command will create a tab, but since we are using raw strings, the sentence is printed as is."
   ]
  },
  {
   "cell_type": "code",
   "execution_count": 71,
   "id": "fd0c446e",
   "metadata": {},
   "outputs": [
    {
     "name": "stdout",
     "output_type": "stream",
     "text": [
      "Data\tScience\n"
     ]
    }
   ],
   "source": [
    "print(\"Data\\tScience\")"
   ]
  },
  {
   "cell_type": "code",
   "execution_count": 72,
   "id": "aa3ddf1f",
   "metadata": {},
   "outputs": [
    {
     "name": "stdout",
     "output_type": "stream",
     "text": [
      "Data\\tScience\n"
     ]
    }
   ],
   "source": [
    "print(r\"Data\\tScience\")"
   ]
  }
 ],
 "metadata": {
  "kernelspec": {
   "display_name": "Python 3 (ipykernel)",
   "language": "python",
   "name": "python3"
  },
  "language_info": {
   "codemirror_mode": {
    "name": "ipython",
    "version": 3
   },
   "file_extension": ".py",
   "mimetype": "text/x-python",
   "name": "python",
   "nbconvert_exporter": "python",
   "pygments_lexer": "ipython3",
   "version": "3.9.12"
  }
 },
 "nbformat": 4,
 "nbformat_minor": 5
}
