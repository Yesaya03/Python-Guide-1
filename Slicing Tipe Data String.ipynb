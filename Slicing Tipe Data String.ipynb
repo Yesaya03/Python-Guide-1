{
 "cells": [
  {
   "cell_type": "markdown",
   "id": "779a4b66",
   "metadata": {},
   "source": [
    "# Slicing String"
   ]
  },
  {
   "cell_type": "markdown",
   "id": "dd742ada",
   "metadata": {},
   "source": [
    "Because Strings are similar to lists, the slicing operator [] also used on strings to retrieve their contents or even substrings. A whole string is mutable (can be changed), but its elements are immutable (cannot be changed)"
   ]
  },
  {
   "cell_type": "code",
   "execution_count": 1,
   "id": "6f75a4d3",
   "metadata": {},
   "outputs": [
    {
     "name": "stdout",
     "output_type": "stream",
     "text": [
      "t\n"
     ]
    }
   ],
   "source": [
    "# take letter 't' from string 'a'\n",
    "\n",
    "a = \"Data Science\"\n",
    "\n",
    "print(a[2])"
   ]
  },
  {
   "cell_type": "code",
   "execution_count": 2,
   "id": "ff39dfc4",
   "metadata": {},
   "outputs": [
    {
     "name": "stdout",
     "output_type": "stream",
     "text": [
      "Science\n"
     ]
    }
   ],
   "source": [
    "# takes letter 'Science' from string 'a'\n",
    "\n",
    "a = 'Data Science'\n",
    "\n",
    "print(a[5:12])"
   ]
  },
  {
   "cell_type": "code",
   "execution_count": 3,
   "id": "757b87f9",
   "metadata": {},
   "outputs": [
    {
     "name": "stdout",
     "output_type": "stream",
     "text": [
      "Sine\n"
     ]
    }
   ],
   "source": [
    "# take the letters of the 5th index until the -12th index with a jump of 2 values.\n",
    "\n",
    "a = 'Data Science'\n",
    "\n",
    "print(a[5:12:2])"
   ]
  },
  {
   "cell_type": "code",
   "execution_count": 4,
   "id": "7b9bb6e0",
   "metadata": {},
   "outputs": [
    {
     "ename": "TypeError",
     "evalue": "'str' object does not support item assignment",
     "output_type": "error",
     "traceback": [
      "\u001b[1;31m---------------------------------------------------------------------------\u001b[0m",
      "\u001b[1;31mTypeError\u001b[0m                                 Traceback (most recent call last)",
      "Input \u001b[1;32mIn [4]\u001b[0m, in \u001b[0;36m<cell line: 5>\u001b[1;34m()\u001b[0m\n\u001b[0;32m      1\u001b[0m \u001b[38;5;66;03m# changes the -3 index of the string 'a' to the letter 'o'. It should be an error because it's immutable\u001b[39;00m\n\u001b[0;32m      3\u001b[0m a \u001b[38;5;241m=\u001b[39m \u001b[38;5;124m'\u001b[39m\u001b[38;5;124mData Science\u001b[39m\u001b[38;5;124m'\u001b[39m\n\u001b[1;32m----> 5\u001b[0m a[\u001b[38;5;241m3\u001b[39m] \u001b[38;5;241m=\u001b[39m \u001b[38;5;124m\"\u001b[39m\u001b[38;5;124mo\u001b[39m\u001b[38;5;124m\"\u001b[39m\n\u001b[0;32m      7\u001b[0m \u001b[38;5;28mprint\u001b[39m(a)\n",
      "\u001b[1;31mTypeError\u001b[0m: 'str' object does not support item assignment"
     ]
    }
   ],
   "source": [
    "# changes the -3 index of the string 'a' to the letter 'o'. It should be an error because it's immutable\n",
    "\n",
    "a = 'Data Science'\n",
    "\n",
    "a[3] = \"o\"\n",
    "\n",
    "print(a)"
   ]
  },
  {
   "cell_type": "code",
   "execution_count": 5,
   "id": "0827c661",
   "metadata": {},
   "outputs": [
    {
     "name": "stdout",
     "output_type": "stream",
     "text": [
      "Data Engineer\n"
     ]
    }
   ],
   "source": [
    "# changes the contents of the string 'a' to \"Data Engineer\", it should work because it is immutable.\n",
    "\n",
    "a = 'Data Science'   # First string 'a'\n",
    "\n",
    "a = 'Data Engineer'  # Second string 'a', after changes from string 'a'\n",
    "\n",
    "print(a)"
   ]
  }
 ],
 "metadata": {
  "kernelspec": {
   "display_name": "Python 3 (ipykernel)",
   "language": "python",
   "name": "python3"
  },
  "language_info": {
   "codemirror_mode": {
    "name": "ipython",
    "version": 3
   },
   "file_extension": ".py",
   "mimetype": "text/x-python",
   "name": "python",
   "nbconvert_exporter": "python",
   "pygments_lexer": "ipython3",
   "version": "3.9.12"
  }
 },
 "nbformat": 4,
 "nbformat_minor": 5
}
