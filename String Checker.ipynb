{
 "cells": [
  {
   "cell_type": "markdown",
   "id": "5604ed72",
   "metadata": {},
   "source": [
    "# String Checker"
   ]
  },
  {
   "cell_type": "markdown",
   "id": "78041f9e",
   "metadata": {},
   "source": [
    "Material String Checker:\n",
    "\n",
    "1. isupper()\n",
    "2. islower()\n",
    "3. isalpha()\n",
    "4. isalnum()\n",
    "5. isdecimal()\n",
    "6. istitle()\n",
    "7. isspace()"
   ]
  },
  {
   "cell_type": "markdown",
   "id": "70837296",
   "metadata": {},
   "source": [
    "In the string checking category, we will check the boolean of a string."
   ]
  },
  {
   "cell_type": "markdown",
   "id": "b17a4109",
   "metadata": {},
   "source": [
    "## > isupper()"
   ]
  },
  {
   "cell_type": "markdown",
   "id": "8d9a5b8e",
   "metadata": {},
   "source": [
    "The isupper() function returns True if all letters in the string are uppercase and return False if there is only one lowercase letter string."
   ]
  },
  {
   "cell_type": "code",
   "execution_count": 2,
   "id": "a36c2a8f",
   "metadata": {},
   "outputs": [],
   "source": [
    "a = \"PYTHON PROGRAMMING\""
   ]
  },
  {
   "cell_type": "code",
   "execution_count": 3,
   "id": "ca1382f1",
   "metadata": {},
   "outputs": [
    {
     "data": {
      "text/plain": [
       "True"
      ]
     },
     "execution_count": 3,
     "metadata": {},
     "output_type": "execute_result"
    }
   ],
   "source": [
    "a.isupper()"
   ]
  },
  {
   "cell_type": "code",
   "execution_count": 4,
   "id": "12b2661e",
   "metadata": {},
   "outputs": [],
   "source": [
    "a = 'Python Programming'"
   ]
  },
  {
   "cell_type": "code",
   "execution_count": 5,
   "id": "3f44b3ac",
   "metadata": {},
   "outputs": [
    {
     "data": {
      "text/plain": [
       "False"
      ]
     },
     "execution_count": 5,
     "metadata": {},
     "output_type": "execute_result"
    }
   ],
   "source": [
    "a.isupper()"
   ]
  },
  {
   "cell_type": "markdown",
   "id": "4b880b13",
   "metadata": {},
   "source": [
    "## > islower()"
   ]
  },
  {
   "cell_type": "markdown",
   "id": "98a9d18a",
   "metadata": {},
   "source": [
    "The islower() function is the opposite of the isupper() method. This function will return True if all letters in the string are lowercase and return False if there is only one uppercase letter string."
   ]
  },
  {
   "cell_type": "code",
   "execution_count": 6,
   "id": "a411629a",
   "metadata": {},
   "outputs": [],
   "source": [
    "a = 'python programming'"
   ]
  },
  {
   "cell_type": "code",
   "execution_count": 7,
   "id": "f02d94a6",
   "metadata": {},
   "outputs": [
    {
     "data": {
      "text/plain": [
       "True"
      ]
     },
     "execution_count": 7,
     "metadata": {},
     "output_type": "execute_result"
    }
   ],
   "source": [
    "a.islower()"
   ]
  },
  {
   "cell_type": "code",
   "execution_count": 8,
   "id": "ee74a85a",
   "metadata": {},
   "outputs": [],
   "source": [
    "a = 'Python Programming'"
   ]
  },
  {
   "cell_type": "code",
   "execution_count": 9,
   "id": "5e0d42fe",
   "metadata": {},
   "outputs": [
    {
     "data": {
      "text/plain": [
       "False"
      ]
     },
     "execution_count": 9,
     "metadata": {},
     "output_type": "execute_result"
    }
   ],
   "source": [
    "a.isupper()"
   ]
  },
  {
   "cell_type": "markdown",
   "id": "9310b1e5",
   "metadata": {},
   "source": [
    "We can do operations on the result of the operation (chan of method)."
   ]
  },
  {
   "cell_type": "code",
   "execution_count": 10,
   "id": "c8b0a48a",
   "metadata": {},
   "outputs": [
    {
     "name": "stdout",
     "output_type": "stream",
     "text": [
      "data\n"
     ]
    }
   ],
   "source": [
    "print(\"Data\".upper().lower())"
   ]
  },
  {
   "cell_type": "code",
   "execution_count": 11,
   "id": "a6c282a2",
   "metadata": {},
   "outputs": [
    {
     "name": "stdout",
     "output_type": "stream",
     "text": [
      "DATA\n"
     ]
    }
   ],
   "source": [
    "print(\"Data\".lower().upper())"
   ]
  },
  {
   "cell_type": "code",
   "execution_count": 12,
   "id": "e2d541c4",
   "metadata": {},
   "outputs": [
    {
     "name": "stdout",
     "output_type": "stream",
     "text": [
      "True\n"
     ]
    }
   ],
   "source": [
    "print(\"DATA\".upper().lower().islower())"
   ]
  },
  {
   "cell_type": "code",
   "execution_count": 13,
   "id": "a19065d0",
   "metadata": {},
   "outputs": [
    {
     "name": "stdout",
     "output_type": "stream",
     "text": [
      "False\n"
     ]
    }
   ],
   "source": [
    "print(\"DATA\".upper().lower().isupper())"
   ]
  },
  {
   "cell_type": "markdown",
   "id": "93963920",
   "metadata": {},
   "source": [
    "## > isalpha()"
   ]
  },
  {
   "cell_type": "markdown",
   "id": "3259aaa4",
   "metadata": {},
   "source": [
    "This function will return True if all characters are letters of the alphabet. Otherwise, it will return a False value."
   ]
  },
  {
   "cell_type": "code",
   "execution_count": 14,
   "id": "bb3698bf",
   "metadata": {},
   "outputs": [
    {
     "name": "stdout",
     "output_type": "stream",
     "text": [
      "True\n"
     ]
    }
   ],
   "source": [
    "print(\"Data\".isalpha())"
   ]
  },
  {
   "cell_type": "code",
   "execution_count": 15,
   "id": "046de965",
   "metadata": {},
   "outputs": [
    {
     "name": "stdout",
     "output_type": "stream",
     "text": [
      "False\n"
     ]
    }
   ],
   "source": [
    "print(\"Data123\".isalpha())"
   ]
  },
  {
   "cell_type": "code",
   "execution_count": 17,
   "id": "1b3ed3fc",
   "metadata": {},
   "outputs": [
    {
     "name": "stdout",
     "output_type": "stream",
     "text": [
      "False\n"
     ]
    }
   ],
   "source": [
    "print(\"Data Science\".isalpha()) # The value is false because there are spaces and spaces, not included in the alphabet."
   ]
  },
  {
   "cell_type": "markdown",
   "id": "26b738de",
   "metadata": {},
   "source": [
    "## > isalnum()"
   ]
  },
  {
   "cell_type": "markdown",
   "id": "92c5a01f",
   "metadata": {},
   "source": [
    "This function will return True if the characters in the string are alphanumeric letters. Alphanumeric letters contain text or numbers, either one or both. Otherwise, it will return a False value."
   ]
  },
  {
   "cell_type": "code",
   "execution_count": 20,
   "id": "3e86025e",
   "metadata": {},
   "outputs": [
    {
     "name": "stdout",
     "output_type": "stream",
     "text": [
      "True\n"
     ]
    }
   ],
   "source": [
    "print(\"Python\".isalnum())"
   ]
  },
  {
   "cell_type": "code",
   "execution_count": 18,
   "id": "a60fc3f9",
   "metadata": {},
   "outputs": [
    {
     "name": "stdout",
     "output_type": "stream",
     "text": [
      "True\n"
     ]
    }
   ],
   "source": [
    "print(\"Python123\".isalnum())"
   ]
  },
  {
   "cell_type": "code",
   "execution_count": 19,
   "id": "b018743a",
   "metadata": {},
   "outputs": [
    {
     "name": "stdout",
     "output_type": "stream",
     "text": [
      "False\n"
     ]
    }
   ],
   "source": [
    "print(\"Data 123\".isalpha()) # The value is false because there are spaces and spaces, not included in the alphanumeric."
   ]
  },
  {
   "cell_type": "markdown",
   "id": "0ab031a2",
   "metadata": {},
   "source": [
    "## > isdecimal()"
   ]
  },
  {
   "cell_type": "markdown",
   "id": "48fdd83b",
   "metadata": {},
   "source": [
    "This function will return True if the characters in the string are numeric or numeric only. Otherwise, it will return a False value."
   ]
  },
  {
   "cell_type": "code",
   "execution_count": 21,
   "id": "6c8b621a",
   "metadata": {},
   "outputs": [
    {
     "name": "stdout",
     "output_type": "stream",
     "text": [
      "True\n"
     ]
    }
   ],
   "source": [
    "print(\"2022\".isdecimal())"
   ]
  },
  {
   "cell_type": "code",
   "execution_count": 23,
   "id": "d55fb336",
   "metadata": {},
   "outputs": [
    {
     "name": "stdout",
     "output_type": "stream",
     "text": [
      "False\n"
     ]
    }
   ],
   "source": [
    "print(\"Pyhon123\".isdecimal())"
   ]
  },
  {
   "cell_type": "markdown",
   "id": "db4efca6",
   "metadata": {},
   "source": [
    "## > istitle()"
   ]
  },
  {
   "cell_type": "markdown",
   "id": "a9f439f6",
   "metadata": {},
   "source": [
    "This function will return True if the string contains a capital letter in each word and continues with lowercase letters. Otherwise, it will return a False value."
   ]
  },
  {
   "cell_type": "code",
   "execution_count": 24,
   "id": "2d59106b",
   "metadata": {},
   "outputs": [
    {
     "name": "stdout",
     "output_type": "stream",
     "text": [
      "True\n"
     ]
    }
   ],
   "source": [
    "print(\"Python Programming\".istitle())"
   ]
  },
  {
   "cell_type": "code",
   "execution_count": 25,
   "id": "d380da16",
   "metadata": {},
   "outputs": [
    {
     "name": "stdout",
     "output_type": "stream",
     "text": [
      "False\n"
     ]
    }
   ],
   "source": [
    "print(\"Python programming\".istitle())"
   ]
  },
  {
   "cell_type": "markdown",
   "id": "d563536d",
   "metadata": {},
   "source": [
    "## > isspace()"
   ]
  },
  {
   "cell_type": "markdown",
   "id": "21dc92aa",
   "metadata": {},
   "source": [
    "This function will return True if the string contains only whitespace characters, such as spaces, tabs, newlines, or other whitespace characters. Otherwise, it will return False"
   ]
  },
  {
   "cell_type": "code",
   "execution_count": 26,
   "id": "ce4654ff",
   "metadata": {},
   "outputs": [
    {
     "name": "stdout",
     "output_type": "stream",
     "text": [
      "True\n"
     ]
    }
   ],
   "source": [
    "print(\" \".isspace())"
   ]
  },
  {
   "cell_type": "code",
   "execution_count": 27,
   "id": "5e3cd625",
   "metadata": {},
   "outputs": [
    {
     "name": "stdout",
     "output_type": "stream",
     "text": [
      "False\n"
     ]
    }
   ],
   "source": [
    "print(\"Python\".isspace())"
   ]
  },
  {
   "cell_type": "markdown",
   "id": "03030157",
   "metadata": {},
   "source": [
    "Note: \n",
    "\n",
    "All of the above methods return a boolean value and cannot be empty."
   ]
  }
 ],
 "metadata": {
  "kernelspec": {
   "display_name": "Python 3 (ipykernel)",
   "language": "python",
   "name": "python3"
  },
  "language_info": {
   "codemirror_mode": {
    "name": "ipython",
    "version": 3
   },
   "file_extension": ".py",
   "mimetype": "text/x-python",
   "name": "python",
   "nbconvert_exporter": "python",
   "pygments_lexer": "ipython3",
   "version": "3.9.12"
  }
 },
 "nbformat": 4,
 "nbformat_minor": 5
}
