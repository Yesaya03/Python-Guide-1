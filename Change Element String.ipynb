{
 "cells": [
  {
   "cell_type": "markdown",
   "id": "004d6095",
   "metadata": {},
   "source": [
    "# Change Element String"
   ]
  },
  {
   "cell_type": "markdown",
   "id": "86372ca2",
   "metadata": {},
   "source": [
    "## Function replace()"
   ]
  },
  {
   "cell_type": "markdown",
   "id": "7170dba7",
   "metadata": {},
   "source": [
    "The replace() function make returns a new string if the substring had replaced with the entered parameter."
   ]
  },
  {
   "cell_type": "code",
   "execution_count": 1,
   "id": "bfe80e7d",
   "metadata": {},
   "outputs": [],
   "source": [
    "a = \"Today is raining\""
   ]
  },
  {
   "cell_type": "code",
   "execution_count": 2,
   "id": "4ae23276",
   "metadata": {},
   "outputs": [
    {
     "name": "stdout",
     "output_type": "stream",
     "text": [
      "Today is bright\n"
     ]
    }
   ],
   "source": [
    "print(a.replace(\"raining\",\"bright\"))"
   ]
  },
  {
   "cell_type": "markdown",
   "id": "0e70e408",
   "metadata": {},
   "source": [
    "replace(\"word_want_replaced\", \"new_word_substitute\")"
   ]
  },
  {
   "cell_type": "markdown",
   "id": "5572b21b",
   "metadata": {},
   "source": [
    "The third parameter in replace() function is filled with the number of substrings you want to replace:"
   ]
  },
  {
   "cell_type": "markdown",
   "id": "ce18ad4b",
   "metadata": {},
   "source": [
    "replace(\"word_want_replaced\", \"new_word_substitute\", total_words_want_replaced)"
   ]
  },
  {
   "cell_type": "code",
   "execution_count": 7,
   "id": "45288bfa",
   "metadata": {},
   "outputs": [],
   "source": [
    "a = 'Today is raining, I brought a raincoat in raining season and a rain-proof bagn raining season'"
   ]
  },
  {
   "cell_type": "code",
   "execution_count": 8,
   "id": "8e9bcc20",
   "metadata": {},
   "outputs": [
    {
     "name": "stdout",
     "output_type": "stream",
     "text": [
      "Today is cloudly, I brought a raincoat in raining season and a rain-proof bagn raining season\n"
     ]
    }
   ],
   "source": [
    "print(a.replace('raining','cloudly',1))"
   ]
  },
  {
   "cell_type": "code",
   "execution_count": 9,
   "id": "f7bff185",
   "metadata": {},
   "outputs": [
    {
     "name": "stdout",
     "output_type": "stream",
     "text": [
      "Today is cloudly, I brought a raincoat in cloudly season and a rain-proof bagn raining season\n"
     ]
    }
   ],
   "source": [
    "print(a.replace('raining','cloudly',2))"
   ]
  }
 ],
 "metadata": {
  "kernelspec": {
   "display_name": "Python 3 (ipykernel)",
   "language": "python",
   "name": "python3"
  },
  "language_info": {
   "codemirror_mode": {
    "name": "ipython",
    "version": 3
   },
   "file_extension": ".py",
   "mimetype": "text/x-python",
   "name": "python",
   "nbconvert_exporter": "python",
   "pygments_lexer": "ipython3",
   "version": "3.9.12"
  }
 },
 "nbformat": 4,
 "nbformat_minor": 5
}
